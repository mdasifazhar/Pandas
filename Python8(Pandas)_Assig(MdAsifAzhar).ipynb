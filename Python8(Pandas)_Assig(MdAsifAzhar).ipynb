{
 "cells": [
  {
   "cell_type": "markdown",
   "metadata": {},
   "source": [
    "###### 1) How-to-count-distance-to-the-previous-zero.\n",
    "###### For each value, count the difference of the distance from the previous zero (or the start of the Series, whichever is closer) and if there are no previous zeros,print the position Consider a DataFrame df where there is an integer column {'X':[7, 2, 0, 3, 4, 2, 5, 0, 3, 4]}\n",
    "###### The values should therefore be [1, 2, 0, 1, 2, 3, 4, 0, 1, 2]. Make this a new column 'Y'.\n",
    "###### import pandas as pd\n",
    "###### df = pd.DataFrame({'X': [7, 2, 0, 3, 4, 2, 5, 0, 3, 4]})"
   ]
  },
  {
   "cell_type": "code",
   "execution_count": 60,
   "metadata": {},
   "outputs": [
    {
     "data": {
      "text/html": [
       "<div>\n",
       "<style scoped>\n",
       "    .dataframe tbody tr th:only-of-type {\n",
       "        vertical-align: middle;\n",
       "    }\n",
       "\n",
       "    .dataframe tbody tr th {\n",
       "        vertical-align: top;\n",
       "    }\n",
       "\n",
       "    .dataframe thead th {\n",
       "        text-align: right;\n",
       "    }\n",
       "</style>\n",
       "<table border=\"1\" class=\"dataframe\">\n",
       "  <thead>\n",
       "    <tr style=\"text-align: right;\">\n",
       "      <th></th>\n",
       "      <th>X</th>\n",
       "      <th>Y</th>\n",
       "    </tr>\n",
       "  </thead>\n",
       "  <tbody>\n",
       "    <tr>\n",
       "      <th>0</th>\n",
       "      <td>7</td>\n",
       "      <td>1.0</td>\n",
       "    </tr>\n",
       "    <tr>\n",
       "      <th>1</th>\n",
       "      <td>2</td>\n",
       "      <td>2.0</td>\n",
       "    </tr>\n",
       "    <tr>\n",
       "      <th>2</th>\n",
       "      <td>0</td>\n",
       "      <td>0.0</td>\n",
       "    </tr>\n",
       "    <tr>\n",
       "      <th>3</th>\n",
       "      <td>3</td>\n",
       "      <td>1.0</td>\n",
       "    </tr>\n",
       "    <tr>\n",
       "      <th>4</th>\n",
       "      <td>4</td>\n",
       "      <td>2.0</td>\n",
       "    </tr>\n",
       "    <tr>\n",
       "      <th>5</th>\n",
       "      <td>2</td>\n",
       "      <td>3.0</td>\n",
       "    </tr>\n",
       "    <tr>\n",
       "      <th>6</th>\n",
       "      <td>5</td>\n",
       "      <td>4.0</td>\n",
       "    </tr>\n",
       "    <tr>\n",
       "      <th>7</th>\n",
       "      <td>0</td>\n",
       "      <td>0.0</td>\n",
       "    </tr>\n",
       "    <tr>\n",
       "      <th>8</th>\n",
       "      <td>3</td>\n",
       "      <td>1.0</td>\n",
       "    </tr>\n",
       "    <tr>\n",
       "      <th>9</th>\n",
       "      <td>4</td>\n",
       "      <td>2.0</td>\n",
       "    </tr>\n",
       "  </tbody>\n",
       "</table>\n",
       "</div>"
      ],
      "text/plain": [
       "   X    Y\n",
       "0  7  1.0\n",
       "1  2  2.0\n",
       "2  0  0.0\n",
       "3  3  1.0\n",
       "4  4  2.0\n",
       "5  2  3.0\n",
       "6  5  4.0\n",
       "7  0  0.0\n",
       "8  3  1.0\n",
       "9  4  2.0"
      ]
     },
     "execution_count": 60,
     "metadata": {},
     "output_type": "execute_result"
    }
   ],
   "source": [
    "import numpy as np\n",
    "import pandas as pd\n",
    "arr=np.array([7, 2, 0, 3, 4, 2, 5, 0, 3, 4])\n",
    "df=pd.DataFrame(arr,columns=['X'])\n",
    "x = (df['X'] != 0).cumsum()\n",
    "y = x != x.shift()\n",
    "df['Y'] = y.groupby((y != y.shift()).cumsum()).cumsum()\n",
    "df\n"
   ]
  },
  {
   "cell_type": "markdown",
   "metadata": {},
   "source": [
    "###### 2) Create a DatetimeIndex that contains each business day of 2015 and use it to index a Series of random numbers."
   ]
  },
  {
   "cell_type": "code",
   "execution_count": 24,
   "metadata": {},
   "outputs": [
    {
     "data": {
      "text/plain": [
       "2015-01-01    0.353604\n",
       "2015-01-02    0.544683\n",
       "2015-01-05    0.098684\n",
       "2015-01-06    0.688559\n",
       "2015-01-07    0.599887\n",
       "2015-01-08    0.977706\n",
       "2015-01-09    0.722931\n",
       "2015-01-12    0.314034\n",
       "2015-01-13    0.246371\n",
       "2015-01-14    0.449742\n",
       "2015-01-15    0.550678\n",
       "2015-01-16    0.486994\n",
       "2015-01-19    0.809793\n",
       "2015-01-20    0.868968\n",
       "2015-01-21    0.901684\n",
       "2015-01-22    0.623212\n",
       "2015-01-23    0.627699\n",
       "2015-01-26    0.500707\n",
       "2015-01-27    0.983183\n",
       "2015-01-28    0.232636\n",
       "2015-01-29    0.262581\n",
       "2015-01-30    0.058314\n",
       "2015-02-02    0.566457\n",
       "2015-02-03    0.477320\n",
       "2015-02-04    0.100102\n",
       "2015-02-05    0.316100\n",
       "2015-02-06    0.297469\n",
       "2015-02-09    0.578043\n",
       "2015-02-10    0.064597\n",
       "2015-02-11    0.909962\n",
       "                ...   \n",
       "2015-11-20    0.997060\n",
       "2015-11-23    0.582480\n",
       "2015-11-24    0.908750\n",
       "2015-11-25    0.146763\n",
       "2015-11-26    0.630038\n",
       "2015-11-27    0.539155\n",
       "2015-11-30    0.247212\n",
       "2015-12-01    0.053882\n",
       "2015-12-02    0.424221\n",
       "2015-12-03    0.161326\n",
       "2015-12-04    0.463076\n",
       "2015-12-07    0.850846\n",
       "2015-12-08    0.025689\n",
       "2015-12-09    0.850068\n",
       "2015-12-10    0.687132\n",
       "2015-12-11    0.674574\n",
       "2015-12-14    0.032658\n",
       "2015-12-15    0.026443\n",
       "2015-12-16    0.307704\n",
       "2015-12-17    0.359904\n",
       "2015-12-18    0.651952\n",
       "2015-12-21    0.245416\n",
       "2015-12-22    0.802290\n",
       "2015-12-23    0.066469\n",
       "2015-12-24    0.715351\n",
       "2015-12-25    0.951533\n",
       "2015-12-28    0.020136\n",
       "2015-12-29    0.479347\n",
       "2015-12-30    0.127740\n",
       "2015-12-31    0.900758\n",
       "Freq: C, Length: 261, dtype: float64"
      ]
     },
     "execution_count": 24,
     "metadata": {},
     "output_type": "execute_result"
    }
   ],
   "source": [
    "import numpy as np\n",
    "import pandas as pd\n",
    "dateIndex = pd.date_range(start='2015-01-01', end='2015-12-31', freq='C') \n",
    "series = pd.Series(np.random.rand(len(dateIndex)), index=dateIndex)\n",
    "series"
   ]
  },
  {
   "cell_type": "markdown",
   "metadata": {},
   "source": [
    "###### 3) Find the sum of the values in s for every Wednesday"
   ]
  },
  {
   "cell_type": "code",
   "execution_count": 25,
   "metadata": {},
   "outputs": [
    {
     "data": {
      "text/plain": [
       "27.82736247958801"
      ]
     },
     "execution_count": 25,
     "metadata": {},
     "output_type": "execute_result"
    }
   ],
   "source": [
    "series[dateIndex.weekday == 2].sum() "
   ]
  },
  {
   "cell_type": "markdown",
   "metadata": {},
   "source": [
    "###### 4) Average For each calendar month"
   ]
  },
  {
   "cell_type": "code",
   "execution_count": 26,
   "metadata": {},
   "outputs": [
    {
     "data": {
      "text/plain": [
       "2015-01-31    0.541030\n",
       "2015-02-28    0.390736\n",
       "2015-03-31    0.450348\n",
       "2015-04-30    0.529375\n",
       "2015-05-31    0.471853\n",
       "2015-06-30    0.444221\n",
       "2015-07-31    0.615249\n",
       "2015-08-31    0.531595\n",
       "2015-09-30    0.536203\n",
       "2015-10-31    0.503914\n",
       "2015-11-30    0.559079\n",
       "2015-12-31    0.429501\n",
       "Freq: M, dtype: float64"
      ]
     },
     "execution_count": 26,
     "metadata": {},
     "output_type": "execute_result"
    }
   ],
   "source": [
    "series.resample('M').mean()"
   ]
  },
  {
   "cell_type": "markdown",
   "metadata": {},
   "source": [
    "###### 5) For each group of four consecutive calendar months in s, find the date on which the highest value occurred."
   ]
  },
  {
   "cell_type": "code",
   "execution_count": 37,
   "metadata": {},
   "outputs": [
    {
     "data": {
      "text/plain": [
       "2015-01-31   2015-01-27\n",
       "2015-05-31   2015-03-03\n",
       "2015-09-30   2015-07-14\n",
       "2016-01-31   2015-11-20\n",
       "dtype: datetime64[ns]"
      ]
     },
     "execution_count": 37,
     "metadata": {},
     "output_type": "execute_result"
    }
   ],
   "source": [
    "series.groupby(pd.Grouper(freq='4M')).idxmax()"
   ]
  }
 ],
 "metadata": {
  "kernelspec": {
   "display_name": "Python 3",
   "language": "python",
   "name": "python3"
  },
  "language_info": {
   "codemirror_mode": {
    "name": "ipython",
    "version": 3
   },
   "file_extension": ".py",
   "mimetype": "text/x-python",
   "name": "python",
   "nbconvert_exporter": "python",
   "pygments_lexer": "ipython3",
   "version": "3.6.5"
  }
 },
 "nbformat": 4,
 "nbformat_minor": 2
}
